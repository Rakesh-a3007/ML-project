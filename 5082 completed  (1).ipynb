{
 "cells": [
  {
   "cell_type": "markdown",
   "id": "f0b9a6ae-8e03-4eab-9dcf-1611c8c2fcab",
   "metadata": {},
   "source": [
    "# Data Collection"
   ]
  },
  {
   "cell_type": "code",
   "execution_count": 1,
   "id": "6e42475e",
   "metadata": {},
   "outputs": [],
   "source": [
    "import os\n",
    "import cv2\n",
    "import numpy as np\n",
    "import pandas as pd\n",
    "import zipfile\n",
    "from tensorflow.keras.utils import to_categorical\n",
    "\n",
    "# 📁 Define the path for the zip file and extraction directory\n",
    "zip_path = r\"C:\\Users\\Sai Vaishnavi\\GTSRB_Final_Training_Images.zip\"  # Use raw string for Windows paths\n",
    "extract_dir = r\"C:\\Users\\Sai Vaishnavi\\GTSRB\\Final_Training\\Images\\GTSRB\\Final_Training\\Images\"\n",
    "\n",
    "\n",
    "\n",
    "# 📦 Extract the dataset if not already extracted\n",
    "if not os.path.exists(extract_dir):\n",
    "    with zipfile.ZipFile(zip_path, 'r') as zip_ref:\n",
    "        zip_ref.extractall(r\"C:\\Users\\Sai Vaishnavi\\GTSRB\")\n",
    "\n",
    "# 📁 Path to GTSRB training data\n",
    "train_root = extract_dir\n"
   ]
  },
  {
   "cell_type": "code",
   "execution_count": 2,
   "id": "74750606",
   "metadata": {},
   "outputs": [
    {
     "name": "stdout",
     "output_type": "stream",
     "text": [
      "✅ Extraction successful. Checking dataset structure...\n",
      "Classes found: ['00000', '00001', '00002', '00003', '00004', '00005', '00006', '00007', '00008', '00009', '00010', '00011', '00012', '00013', '00014', '00015', '00016', '00017', '00018', '00019', '00020', '00021', '00022', '00023', '00024', '00025', '00026', '00027', '00028', '00029', '00030', '00031', '00032', '00033', '00034', '00035', '00036', '00037', '00038', '00039', '00040', '00041', '00042']\n"
     ]
    }
   ],
   "source": [
    "import os\n",
    "\n",
    "# Check if extraction was successful\n",
    "if os.path.exists(extract_dir):\n",
    "    print(\"✅ Extraction successful. Checking dataset structure...\")\n",
    "    print(\"Classes found:\", os.listdir(extract_dir))  # Should list class folders\n",
    "else:\n",
    "    print(\"❌ Extraction failed. Check the ZIP file.\")"
   ]
  },
  {
   "cell_type": "code",
   "execution_count": 3,
   "id": "68b9c38b",
   "metadata": {},
   "outputs": [
    {
     "name": "stdout",
     "output_type": "stream",
     "text": [
      "Checking dataset structure...\n",
      "📁 GTSRB - Folder\n",
      "\n",
      "🔍 Checking images inside GTSRB...\n",
      "['.ipynb_checkpoints', 'Final_Training']\n"
     ]
    }
   ],
   "source": [
    "import os\n",
    "\n",
    "dataset_path = r\"C:\\Users\\Sai Vaishnavi\\GTSRB\\Final_Training\\Images\"\n",
    "\n",
    "# Verify folder contents\n",
    "print(\"Checking dataset structure...\")\n",
    "for folder in os.listdir(dataset_path):\n",
    "    folder_path = os.path.join(dataset_path, folder)\n",
    "    print(f\"📁 {folder} - {'Folder' if os.path.isdir(folder_path) else 'File'}\")\n",
    "\n",
    "# Pick a class and check images inside\n",
    "sample_class = os.listdir(dataset_path)[0]  # First class folder\n",
    "sample_class_path = os.path.join(dataset_path, sample_class)\n",
    "\n",
    "print(f\"\\n🔍 Checking images inside {sample_class}...\")\n",
    "print(os.listdir(sample_class_path)[:5])  # Show first 5 files"
   ]
  },
  {
   "cell_type": "code",
   "execution_count": 4,
   "id": "08f352a2-0e9a-4d51-8550-684d4a1c3034",
   "metadata": {},
   "outputs": [
    {
     "name": "stdout",
     "output_type": "stream",
     "text": [
      "✅ Loaded 39209 images, shape: (39209, 32, 32, 3)\n",
      "\n",
      "📊 Class-wise Image Distribution:\n",
      " ClassId  Image Count\n",
      "       0          210\n",
      "       1         2220\n",
      "       2         2250\n",
      "       3         1410\n",
      "       4         1980\n",
      "       5         1860\n",
      "       6          420\n",
      "       7         1440\n",
      "       8         1410\n",
      "       9         1470\n",
      "      10         2010\n",
      "      11         1320\n",
      "      12         2100\n",
      "      13         2160\n",
      "      14          780\n",
      "      15          630\n",
      "      16          420\n",
      "      17         1110\n",
      "      18         1200\n",
      "      19          210\n",
      "      20          360\n",
      "      21          330\n",
      "      22          390\n",
      "      23          510\n",
      "      24          270\n",
      "      25         1500\n",
      "      26          600\n",
      "      27          240\n",
      "      28          540\n",
      "      29          270\n",
      "      30          450\n",
      "      31          780\n",
      "      32          240\n",
      "      33          689\n",
      "      34          420\n",
      "      35         1200\n",
      "      36          390\n",
      "      37          210\n",
      "      38         2070\n",
      "      39          300\n",
      "      40          360\n",
      "      41          240\n",
      "      42          240\n"
     ]
    }
   ],
   "source": [
    "\n",
    "# 📦 Load and preprocess images\n",
    "def load_gtsrb_dataset(root_dir, img_size=(32, 32)):\n",
    "    images, labels = [], []  # FIXED\n",
    "    for class_id in sorted(os.listdir(root_dir)):\n",
    "        class_path = os.path.join(root_dir, class_id)\n",
    "        if os.path.isdir(class_path):\n",
    "            for img_file in os.listdir(class_path):\n",
    "                if img_file.endswith(\".ppm\"):\n",
    "                    img_path = os.path.join(class_path, img_file)\n",
    "                    img = cv2.imread(img_path)\n",
    "                    if img is not None:\n",
    "                        img = cv2.resize(img, img_size)\n",
    "                        img = cv2.cvtColor(img, cv2.COLOR_BGR2RGB)\n",
    "                        images.append(img)\n",
    "                        labels.append(int(class_id))\n",
    "    return np.array(images), np.array(labels)\n",
    "\n",
    "# 📊 Load data\n",
    "X_raw, y_raw = load_gtsrb_dataset(train_root)\n",
    "print(f\"✅ Loaded {len(X_raw)} images, shape: {X_raw.shape}\")\n",
    "\n",
    "# 📈 Display class-wise distribution\n",
    "label_counts = np.bincount(y_raw)\n",
    "label_df = pd.DataFrame({\n",
    "    \"ClassId\": np.arange(len(label_counts)),\n",
    "    \"Image Count\": label_counts\n",
    "})\n",
    "print(\"\\n📊 Class-wise Image Distribution:\")\n",
    "print(label_df.to_string(index=False))\n"
   ]
  },
  {
   "cell_type": "markdown",
   "id": "1c89d5e8-a1f7-44cc-9c08-c0e1e4e0b53a",
   "metadata": {},
   "source": [
    "# Data Cleaning"
   ]
  },
  {
   "cell_type": "code",
   "execution_count": 5,
   "id": "962d8355-41ec-4883-b6ef-3af5e23e304f",
   "metadata": {},
   "outputs": [
    {
     "name": "stdout",
     "output_type": "stream",
     "text": [
      "✅ Cropped and resized 39209 images, shape: (39209, 32, 32, 3)\n"
     ]
    }
   ],
   "source": [
    "import glob\n",
    "\n",
    "# 🧹 Clean using CSV ROI data\n",
    "def load_and_crop_with_roi(root_dir, img_size=(32, 32)):\n",
    "    images, labels = [], []\n",
    "\n",
    "    # Get all class CSVs\n",
    "    csv_files = glob.glob(os.path.join(root_dir, \"*\", \"GT-*.csv\"))\n",
    "\n",
    "    for csv_path in csv_files:\n",
    "        df = pd.read_csv(csv_path, sep=';')\n",
    "        class_dir = os.path.dirname(csv_path)\n",
    "\n",
    "        for _, row in df.iterrows():\n",
    "            img_path = os.path.join(class_dir, row['Filename'])\n",
    "            img = cv2.imread(img_path)\n",
    "\n",
    "            if img is not None:\n",
    "                # Crop using ROI\n",
    "                x1, y1, x2, y2 = row['Roi.X1'], row['Roi.Y1'], row['Roi.X2'], row['Roi.Y2']\n",
    "                cropped = img[y1:y2, x1:x2]\n",
    "                resized = cv2.resize(cropped, img_size)\n",
    "                resized = cv2.cvtColor(resized, cv2.COLOR_BGR2RGB)\n",
    "                images.append(resized)\n",
    "                labels.append(row['ClassId'])\n",
    "\n",
    "    return np.array(images)/255.0, np.array(labels)\n",
    "\n",
    "# 🚀 Load cleaned dataset\n",
    "X_cleaned, y_cleaned = load_and_crop_with_roi(train_root)\n",
    "print(f\"✅ Cropped and resized {len(X_cleaned)} images, shape: {X_cleaned.shape}\")\n"
   ]
  },
  {
   "cell_type": "markdown",
   "id": "2f403817-7e45-4410-bda2-33c521bd69fa",
   "metadata": {},
   "source": [
    "# Data Transformation"
   ]
  },
  {
   "cell_type": "code",
   "execution_count": 6,
   "id": "99ef5e73-8802-4a2d-a88c-0f9e89bd5142",
   "metadata": {
    "scrolled": true
   },
   "outputs": [
    {
     "name": "stdout",
     "output_type": "stream",
     "text": [
      "✅ Labels one-hot encoded: shape = (39209, 43)\n",
      "✅ Split: 31367 train, 7842 test\n",
      "🌡️ Temp: 21.97°C, 💧 Humidity: 18%\n",
      "✅ Weather metadata shape (train): (31367, 2)\n"
     ]
    }
   ],
   "source": [
    "from sklearn.model_selection import train_test_split\n",
    "from tensorflow.keras.utils import to_categorical\n",
    "import requests\n",
    "import numpy as np\n",
    "\n",
    "# 🎯 One-hot encode labels\n",
    "y_encoded = to_categorical(y_cleaned)\n",
    "print(f\"✅ Labels one-hot encoded: shape = {y_encoded.shape}\")\n",
    "\n",
    "# ✂️ Train/Test Split\n",
    "X_train, X_test, y_train, y_test = train_test_split(\n",
    "    X_cleaned, y_encoded, test_size=0.2, stratify=y_cleaned, random_state=42\n",
    ")\n",
    "print(f\"✅ Split: {X_train.shape[0]} train, {X_test.shape[0]} test\")\n",
    "\n",
    "# 🌤️ Real-time Weather API Integration\n",
    "API_KEY = \"4690348b38a4f5520d615776d7e9e01d\"  \n",
    "CITY = \"Texas\"\n",
    "API_URL = \"https://api.openweathermap.org/data/2.5/weather\"\n",
    "\n",
    "def get_weather():\n",
    "    try:\n",
    "        params = {\"q\": CITY, \"appid\": API_KEY, \"units\": \"metric\"}\n",
    "        response = requests.get(API_URL, params=params)\n",
    "        data = response.json()\n",
    "        if response.status_code == 200:\n",
    "            temp = data[\"main\"].get(\"temp\", 20.0)\n",
    "            humidity = data[\"main\"].get(\"humidity\", 50)\n",
    "            print(f\"🌡️ Temp: {temp}°C, 💧 Humidity: {humidity}%\")\n",
    "            return temp, humidity\n",
    "    except Exception as e:\n",
    "        print(\"⚠️ Weather API error:\", e)\n",
    "    return 20.0, 50\n",
    "\n",
    "# 🌡️ Fetch real-time weather (assumed constant for training batch)\n",
    "temperature, humidity = get_weather()\n",
    "weather_train = np.array([[temperature, humidity]] * len(X_train))\n",
    "weather_test = np.array([[temperature, humidity]] * len(X_test))\n",
    "\n",
    "print(f\"✅ Weather metadata shape (train): {weather_train.shape}\")\n"
   ]
  },
  {
   "cell_type": "code",
   "execution_count": 7,
   "id": "4abf089f-0ac7-4a46-b3bd-617640bede31",
   "metadata": {},
   "outputs": [],
   "source": [
    "# Augmentation"
   ]
  },
  {
   "cell_type": "code",
   "execution_count": 8,
   "id": "4130a0f4-2f59-42f2-bc5d-15e1e69e88f5",
   "metadata": {},
   "outputs": [
    {
     "name": "stdout",
     "output_type": "stream",
     "text": [
      "✅ Augmented 7841 images. Final training shape: (39208, 32, 32, 3)\n"
     ]
    }
   ],
   "source": [
    "# After Step 3 is done — you already have these\n",
    "# X_train, y_train, weather_train\n",
    "# (All numpy arrays)\n",
    "\n",
    "# INSERT AUGMENTATION HERE ⬇️\n",
    "import random\n",
    "\n",
    "def add_fog(image):\n",
    "    fog_layer = np.full_like(image, 200, dtype=np.uint8)\n",
    "    return cv2.addWeighted(image, 0.7, fog_layer, 0.3, 0)\n",
    "\n",
    "def add_rain(image, drop_count=100):\n",
    "    rainy = image.copy()\n",
    "    h, w, _ = image.shape\n",
    "    for _ in range(drop_count):\n",
    "        x1, y1 = random.randint(0, w), random.randint(0, h)\n",
    "        x2, y2 = x1 + random.randint(-2, 2), y1 + random.randint(10, 20)\n",
    "        cv2.line(rainy, (x1, y1), (x2, y2), (200, 200, 200), 1)\n",
    "    return cv2.addWeighted(image, 0.8, rainy, 0.2, 0)\n",
    "\n",
    "def add_glare(image):\n",
    "    glare = image.copy()\n",
    "    h, w = glare.shape[:2]\n",
    "    cx = random.randint(w//3, 2*w//3)\n",
    "    cy = random.randint(h//3, 2*h//3)\n",
    "    r = random.randint(5, 15)\n",
    "    overlay = glare.copy()\n",
    "    cv2.circle(overlay, (cx, cy), r, (255, 255, 255), -1)\n",
    "    return cv2.addWeighted(glare, 0.8, overlay, 0.2, 0)\n",
    "\n",
    "# Augment 25% of training data\n",
    "augment_fraction = 0.25\n",
    "num_aug = int(len(X_train) * augment_fraction)\n",
    "indices = random.sample(range(len(X_train)), num_aug)\n",
    "\n",
    "X_aug, y_aug = [], []\n",
    "\n",
    "for idx in indices:\n",
    "    img = (X_train[idx] * 255).astype(np.uint8)\n",
    "    label = y_train[idx]\n",
    "    effect = random.choice([\"fog\", \"rain\", \"glare\"])\n",
    "    \n",
    "    if effect == \"fog\":\n",
    "        aug_img = add_fog(img)\n",
    "    elif effect == \"rain\":\n",
    "        aug_img = add_rain(img)\n",
    "    else:\n",
    "        aug_img = add_glare(img)\n",
    "\n",
    "    X_aug.append(aug_img / 255.0)\n",
    "    y_aug.append(label)\n",
    "\n",
    "# Final combined training data\n",
    "X_train_aug = np.concatenate((X_train, np.array(X_aug)), axis=0)\n",
    "y_train_aug = np.concatenate((y_train, np.array(y_aug)), axis=0)\n",
    "weather_train_aug = np.concatenate((weather_train, weather_train[:len(X_aug)]), axis=0)\n",
    "\n",
    "print(f\"✅ Augmented {len(X_aug)} images. Final training shape: {X_train_aug.shape}\")\n"
   ]
  },
  {
   "cell_type": "code",
   "execution_count": 9,
   "id": "da226fde-0eb0-481e-8f73-5485f1939900",
   "metadata": {},
   "outputs": [],
   "source": [
    "# Display Augmented Images"
   ]
  },
  {
   "cell_type": "code",
   "execution_count": 10,
   "id": "bf17225d-9e69-4db8-892c-469f7e580f83",
   "metadata": {},
   "outputs": [
    {
     "data": {
      "image/png": "[encoded data removed]",
      "text/plain": [
       "<Figure size 1152x288 with 4 Axes>"
      ]
     },
     "metadata": {
      "needs_background": "light"
     },
     "output_type": "display_data"
    }
   ],
   "source": [
    "import cv2\n",
    "import numpy as np\n",
    "import matplotlib.pyplot as plt\n",
    "import random\n",
    "\n",
    "# --- Weather effect functions ---\n",
    "def add_fog(image):\n",
    "    fog_layer = np.full_like(image, 200, dtype=np.uint8)\n",
    "    return cv2.addWeighted(image, 0.7, fog_layer, 0.3, 0)\n",
    "\n",
    "def add_rain(image, drop_count=100):\n",
    "    rainy = image.copy()\n",
    "    h, w, _ = image.shape\n",
    "    for _ in range(drop_count):\n",
    "        x1, y1 = random.randint(0, w), random.randint(0, h)\n",
    "        x2, y2 = x1 + random.randint(-2, 2), y1 + random.randint(10, 20)\n",
    "        cv2.line(rainy, (x1, y1), (x2, y2), (200, 200, 200), 1)\n",
    "    return cv2.addWeighted(image, 0.8, rainy, 0.2, 0)\n",
    "\n",
    "def add_glare(image):\n",
    "    glare = image.copy()\n",
    "    h, w = glare.shape[:2]\n",
    "    cx = random.randint(w // 3, 2 * w // 3)\n",
    "    cy = random.randint(h // 3, 2 * h // 3)\n",
    "    radius = random.randint(5, 15)\n",
    "    overlay = glare.copy()\n",
    "    cv2.circle(overlay, (cx, cy), radius, (255, 255, 255), -1)\n",
    "    return cv2.addWeighted(glare, 0.8, overlay, 0.2, 0)\n",
    "\n",
    "# --- Sharp image filter ---\n",
    "def is_clear_image(img, threshold=100.0):\n",
    "    gray = cv2.cvtColor(img, cv2.COLOR_RGB2GRAY)\n",
    "    return cv2.Laplacian(gray, cv2.CV_64F).var() > threshold\n",
    "\n",
    "def get_one_clear_image(X):\n",
    "    for i in range(len(X)):\n",
    "        img = (X[i] * 255).astype(np.uint8)\n",
    "        if is_clear_image(img):\n",
    "            return img\n",
    "    return None\n",
    "\n",
    "# --- Select and visualize one image with 4 versions ---\n",
    "base_img = get_one_clear_image(X_cleaned)\n",
    "\n",
    "if base_img is not None:\n",
    "    fog = add_fog(base_img)\n",
    "    rain = add_rain(base_img)\n",
    "    glare = add_glare(base_img)\n",
    "\n",
    "    images = [base_img, fog, rain, glare]\n",
    "    titles = [\"Original\", \"Fog\", \"Rain\", \"Glare\"]\n",
    "\n",
    "    plt.figure(figsize=(16, 4))\n",
    "    for i in range(4):\n",
    "        plt.subplot(1, 4, i+1)\n",
    "        plt.imshow(images[i])\n",
    "        plt.title(titles[i])\n",
    "        plt.axis(\"off\")\n",
    "    \n",
    "    plt.tight_layout()\n",
    "    plt.suptitle(\"Simulated Weather Effects on Clear Traffic Sign\", fontsize=16, y=1.10)\n",
    "    plt.show()\n",
    "else:\n",
    "    print(\"⚠️ No clear image found in the dataset.\")\n"
   ]
  },
  {
   "cell_type": "markdown",
   "id": "6ddd854e-138e-4416-aeff-b33162a88a79",
   "metadata": {},
   "source": [
    "# Model Training (CNN + Weather Input)"
   ]
  },
  {
   "cell_type": "code",
   "execution_count": 11,
   "id": "73545d77-5992-4dd8-8cca-b9f39a3b05fe",
   "metadata": {},
   "outputs": [
    {
     "data": {
      "text/html": [
       "<pre style=\"white-space:pre;overflow-x:auto;line-height:normal;font-family:Menlo,'DejaVu Sans Mono',consolas,'Courier New',monospace\"><span style=\"font-weight: bold\">Model: \"functional\"</span>\n",
       "</pre>\n"
      ],
      "text/plain": [
       "\u001b[1mModel: \"functional\"\u001b[0m\n"
      ]
     },
     "metadata": {},
     "output_type": "display_data"
    },
    {
     "data": {
      "text/html": [
       "<pre style=\"white-space:pre;overflow-x:auto;line-height:normal;font-family:Menlo,'DejaVu Sans Mono',consolas,'Courier New',monospace\">┏━━━━━━━━━━━━━━━━━━━━━━━━━━━━━━━┳━━━━━━━━━━━━━━━━━━━━━━━━━━━┳━━━━━━━━━━━━━━━━━┳━━━━━━━━━━━━━━━━━━━━━━━━━━━━┓\n",
       "┃<span style=\"font-weight: bold\"> Layer (type)                  </span>┃<span style=\"font-weight: bold\"> Output Shape              </span>┃<span style=\"font-weight: bold\">         Param # </span>┃<span style=\"font-weight: bold\"> Connected to               </span>┃\n",
       "┡━━━━━━━━━━━━━━━━━━━━━━━━━━━━━━━╇━━━━━━━━━━━━━━━━━━━━━━━━━━━╇━━━━━━━━━━━━━━━━━╇━━━━━━━━━━━━━━━━━━━━━━━━━━━━┩\n",
       "│ input_layer (<span style=\"color: #0087ff; text-decoration-color: #0087ff\">InputLayer</span>)      │ (<span style=\"color: #00d7ff; text-decoration-color: #00d7ff\">None</span>, <span style=\"color: #00af00; text-decoration-color: #00af00\">32</span>, <span style=\"color: #00af00; text-decoration-color: #00af00\">32</span>, <span style=\"color: #00af00; text-decoration-color: #00af00\">3</span>)         │               <span style=\"color: #00af00; text-decoration-color: #00af00\">0</span> │ -                          │\n",
       "├───────────────────────────────┼───────────────────────────┼─────────────────┼────────────────────────────┤\n",
       "│ conv2d (<span style=\"color: #0087ff; text-decoration-color: #0087ff\">Conv2D</span>)               │ (<span style=\"color: #00d7ff; text-decoration-color: #00d7ff\">None</span>, <span style=\"color: #00af00; text-decoration-color: #00af00\">30</span>, <span style=\"color: #00af00; text-decoration-color: #00af00\">30</span>, <span style=\"color: #00af00; text-decoration-color: #00af00\">16</span>)        │             <span style=\"color: #00af00; text-decoration-color: #00af00\">448</span> │ input_layer[<span style=\"color: #00af00; text-decoration-color: #00af00\">0</span>][<span style=\"color: #00af00; text-decoration-color: #00af00\">0</span>]          │\n",
       "├───────────────────────────────┼───────────────────────────┼─────────────────┼────────────────────────────┤\n",
       "│ max_pooling2d (<span style=\"color: #0087ff; text-decoration-color: #0087ff\">MaxPooling2D</span>)  │ (<span style=\"color: #00d7ff; text-decoration-color: #00d7ff\">None</span>, <span style=\"color: #00af00; text-decoration-color: #00af00\">15</span>, <span style=\"color: #00af00; text-decoration-color: #00af00\">15</span>, <span style=\"color: #00af00; text-decoration-color: #00af00\">16</span>)        │               <span style=\"color: #00af00; text-decoration-color: #00af00\">0</span> │ conv2d[<span style=\"color: #00af00; text-decoration-color: #00af00\">0</span>][<span style=\"color: #00af00; text-decoration-color: #00af00\">0</span>]               │\n",
       "├───────────────────────────────┼───────────────────────────┼─────────────────┼────────────────────────────┤\n",
       "│ conv2d_1 (<span style=\"color: #0087ff; text-decoration-color: #0087ff\">Conv2D</span>)             │ (<span style=\"color: #00d7ff; text-decoration-color: #00d7ff\">None</span>, <span style=\"color: #00af00; text-decoration-color: #00af00\">13</span>, <span style=\"color: #00af00; text-decoration-color: #00af00\">13</span>, <span style=\"color: #00af00; text-decoration-color: #00af00\">32</span>)        │           <span style=\"color: #00af00; text-decoration-color: #00af00\">4,640</span> │ max_pooling2d[<span style=\"color: #00af00; text-decoration-color: #00af00\">0</span>][<span style=\"color: #00af00; text-decoration-color: #00af00\">0</span>]        │\n",
       "├───────────────────────────────┼───────────────────────────┼─────────────────┼────────────────────────────┤\n",
       "│ max_pooling2d_1               │ (<span style=\"color: #00d7ff; text-decoration-color: #00d7ff\">None</span>, <span style=\"color: #00af00; text-decoration-color: #00af00\">6</span>, <span style=\"color: #00af00; text-decoration-color: #00af00\">6</span>, <span style=\"color: #00af00; text-decoration-color: #00af00\">32</span>)          │               <span style=\"color: #00af00; text-decoration-color: #00af00\">0</span> │ conv2d_1[<span style=\"color: #00af00; text-decoration-color: #00af00\">0</span>][<span style=\"color: #00af00; text-decoration-color: #00af00\">0</span>]             │\n",
       "│ (<span style=\"color: #0087ff; text-decoration-color: #0087ff\">MaxPooling2D</span>)                │                           │                 │                            │\n",
       "├───────────────────────────────┼───────────────────────────┼─────────────────┼────────────────────────────┤\n",
       "│ flatten (<span style=\"color: #0087ff; text-decoration-color: #0087ff\">Flatten</span>)             │ (<span style=\"color: #00d7ff; text-decoration-color: #00d7ff\">None</span>, <span style=\"color: #00af00; text-decoration-color: #00af00\">1152</span>)              │               <span style=\"color: #00af00; text-decoration-color: #00af00\">0</span> │ max_pooling2d_1[<span style=\"color: #00af00; text-decoration-color: #00af00\">0</span>][<span style=\"color: #00af00; text-decoration-color: #00af00\">0</span>]      │\n",
       "├───────────────────────────────┼───────────────────────────┼─────────────────┼────────────────────────────┤\n",
       "│ dense (<span style=\"color: #0087ff; text-decoration-color: #0087ff\">Dense</span>)                 │ (<span style=\"color: #00d7ff; text-decoration-color: #00d7ff\">None</span>, <span style=\"color: #00af00; text-decoration-color: #00af00\">64</span>)                │          <span style=\"color: #00af00; text-decoration-color: #00af00\">73,792</span> │ flatten[<span style=\"color: #00af00; text-decoration-color: #00af00\">0</span>][<span style=\"color: #00af00; text-decoration-color: #00af00\">0</span>]              │\n",
       "├───────────────────────────────┼───────────────────────────┼─────────────────┼────────────────────────────┤\n",
       "│ input_layer_1 (<span style=\"color: #0087ff; text-decoration-color: #0087ff\">InputLayer</span>)    │ (<span style=\"color: #00d7ff; text-decoration-color: #00d7ff\">None</span>, <span style=\"color: #00af00; text-decoration-color: #00af00\">2</span>)                 │               <span style=\"color: #00af00; text-decoration-color: #00af00\">0</span> │ -                          │\n",
       "├───────────────────────────────┼───────────────────────────┼─────────────────┼────────────────────────────┤\n",
       "│ dropout (<span style=\"color: #0087ff; text-decoration-color: #0087ff\">Dropout</span>)             │ (<span style=\"color: #00d7ff; text-decoration-color: #00d7ff\">None</span>, <span style=\"color: #00af00; text-decoration-color: #00af00\">64</span>)                │               <span style=\"color: #00af00; text-decoration-color: #00af00\">0</span> │ dense[<span style=\"color: #00af00; text-decoration-color: #00af00\">0</span>][<span style=\"color: #00af00; text-decoration-color: #00af00\">0</span>]                │\n",
       "├───────────────────────────────┼───────────────────────────┼─────────────────┼────────────────────────────┤\n",
       "│ dense_1 (<span style=\"color: #0087ff; text-decoration-color: #0087ff\">Dense</span>)               │ (<span style=\"color: #00d7ff; text-decoration-color: #00d7ff\">None</span>, <span style=\"color: #00af00; text-decoration-color: #00af00\">8</span>)                 │              <span style=\"color: #00af00; text-decoration-color: #00af00\">24</span> │ input_layer_1[<span style=\"color: #00af00; text-decoration-color: #00af00\">0</span>][<span style=\"color: #00af00; text-decoration-color: #00af00\">0</span>]        │\n",
       "├───────────────────────────────┼───────────────────────────┼─────────────────┼────────────────────────────┤\n",
       "│ concatenate (<span style=\"color: #0087ff; text-decoration-color: #0087ff\">Concatenate</span>)     │ (<span style=\"color: #00d7ff; text-decoration-color: #00d7ff\">None</span>, <span style=\"color: #00af00; text-decoration-color: #00af00\">72</span>)                │               <span style=\"color: #00af00; text-decoration-color: #00af00\">0</span> │ dropout[<span style=\"color: #00af00; text-decoration-color: #00af00\">0</span>][<span style=\"color: #00af00; text-decoration-color: #00af00\">0</span>],             │\n",
       "│                               │                           │                 │ dense_1[<span style=\"color: #00af00; text-decoration-color: #00af00\">0</span>][<span style=\"color: #00af00; text-decoration-color: #00af00\">0</span>]              │\n",
       "├───────────────────────────────┼───────────────────────────┼─────────────────┼────────────────────────────┤\n",
       "│ dense_2 (<span style=\"color: #0087ff; text-decoration-color: #0087ff\">Dense</span>)               │ (<span style=\"color: #00d7ff; text-decoration-color: #00d7ff\">None</span>, <span style=\"color: #00af00; text-decoration-color: #00af00\">43</span>)                │           <span style=\"color: #00af00; text-decoration-color: #00af00\">3,139</span> │ concatenate[<span style=\"color: #00af00; text-decoration-color: #00af00\">0</span>][<span style=\"color: #00af00; text-decoration-color: #00af00\">0</span>]          │\n",
       "└───────────────────────────────┴───────────────────────────┴─────────────────┴────────────────────────────┘\n",
       "</pre>\n"
      ],
      "text/plain": [
       "┏━━━━━━━━━━━━━━━━━━━━━━━━━━━━━━━┳━━━━━━━━━━━━━━━━━━━━━━━━━━━┳━━━━━━━━━━━━━━━━━┳━━━━━━━━━━━━━━━━━━━━━━━━━━━━┓\n",
       "┃\u001b[1m \u001b[0m\u001b[1mLayer (type)                 \u001b[0m\u001b[1m \u001b[0m┃\u001b[1m \u001b[0m\u001b[1mOutput Shape             \u001b[0m\u001b[1m \u001b[0m┃\u001b[1m \u001b[0m\u001b[1m        Param #\u001b[0m\u001b[1m \u001b[0m┃\u001b[1m \u001b[0m\u001b[1mConnected to              \u001b[0m\u001b[1m \u001b[0m┃\n",
       "┡━━━━━━━━━━━━━━━━━━━━━━━━━━━━━━━╇━━━━━━━━━━━━━━━━━━━━━━━━━━━╇━━━━━━━━━━━━━━━━━╇━━━━━━━━━━━━━━━━━━━━━━━━━━━━┩\n",
       "│ input_layer (\u001b[38;5;33mInputLayer\u001b[0m)      │ (\u001b[38;5;45mNone\u001b[0m, \u001b[38;5;34m32\u001b[0m, \u001b[38;5;34m32\u001b[0m, \u001b[38;5;34m3\u001b[0m)         │               \u001b[38;5;34m0\u001b[0m │ -                          │\n",
       "├───────────────────────────────┼───────────────────────────┼─────────────────┼────────────────────────────┤\n",
       "│ conv2d (\u001b[38;5;33mConv2D\u001b[0m)               │ (\u001b[38;5;45mNone\u001b[0m, \u001b[38;5;34m30\u001b[0m, \u001b[38;5;34m30\u001b[0m, \u001b[38;5;34m16\u001b[0m)        │             \u001b[38;5;34m448\u001b[0m │ input_layer[\u001b[38;5;34m0\u001b[0m][\u001b[38;5;34m0\u001b[0m]          │\n",
       "├───────────────────────────────┼───────────────────────────┼─────────────────┼────────────────────────────┤\n",
       "│ max_pooling2d (\u001b[38;5;33mMaxPooling2D\u001b[0m)  │ (\u001b[38;5;45mNone\u001b[0m, \u001b[38;5;34m15\u001b[0m, \u001b[38;5;34m15\u001b[0m, \u001b[38;5;34m16\u001b[0m)        │               \u001b[38;5;34m0\u001b[0m │ conv2d[\u001b[38;5;34m0\u001b[0m][\u001b[38;5;34m0\u001b[0m]               │\n",
       "├───────────────────────────────┼───────────────────────────┼─────────────────┼────────────────────────────┤\n",
       "│ conv2d_1 (\u001b[38;5;33mConv2D\u001b[0m)             │ (\u001b[38;5;45mNone\u001b[0m, \u001b[38;5;34m13\u001b[0m, \u001b[38;5;34m13\u001b[0m, \u001b[38;5;34m32\u001b[0m)        │           \u001b[38;5;34m4,640\u001b[0m │ max_pooling2d[\u001b[38;5;34m0\u001b[0m][\u001b[38;5;34m0\u001b[0m]        │\n",
       "├───────────────────────────────┼───────────────────────────┼─────────────────┼────────────────────────────┤\n",
       "│ max_pooling2d_1               │ (\u001b[38;5;45mNone\u001b[0m, \u001b[38;5;34m6\u001b[0m, \u001b[38;5;34m6\u001b[0m, \u001b[38;5;34m32\u001b[0m)          │               \u001b[38;5;34m0\u001b[0m │ conv2d_1[\u001b[38;5;34m0\u001b[0m][\u001b[38;5;34m0\u001b[0m]             │\n",
       "│ (\u001b[38;5;33mMaxPooling2D\u001b[0m)                │                           │                 │                            │\n",
       "├───────────────────────────────┼───────────────────────────┼─────────────────┼────────────────────────────┤\n",
       "│ flatten (\u001b[38;5;33mFlatten\u001b[0m)             │ (\u001b[38;5;45mNone\u001b[0m, \u001b[38;5;34m1152\u001b[0m)              │               \u001b[38;5;34m0\u001b[0m │ max_pooling2d_1[\u001b[38;5;34m0\u001b[0m][\u001b[38;5;34m0\u001b[0m]      │\n",
       "├───────────────────────────────┼───────────────────────────┼─────────────────┼────────────────────────────┤\n",
       "│ dense (\u001b[38;5;33mDense\u001b[0m)                 │ (\u001b[38;5;45mNone\u001b[0m, \u001b[38;5;34m64\u001b[0m)                │          \u001b[38;5;34m73,792\u001b[0m │ flatten[\u001b[38;5;34m0\u001b[0m][\u001b[38;5;34m0\u001b[0m]              │\n",
       "├───────────────────────────────┼───────────────────────────┼─────────────────┼────────────────────────────┤\n",
       "│ input_layer_1 (\u001b[38;5;33mInputLayer\u001b[0m)    │ (\u001b[38;5;45mNone\u001b[0m, \u001b[38;5;34m2\u001b[0m)                 │               \u001b[38;5;34m0\u001b[0m │ -                          │\n",
       "├───────────────────────────────┼───────────────────────────┼─────────────────┼────────────────────────────┤\n",
       "│ dropout (\u001b[38;5;33mDropout\u001b[0m)             │ (\u001b[38;5;45mNone\u001b[0m, \u001b[38;5;34m64\u001b[0m)                │               \u001b[38;5;34m0\u001b[0m │ dense[\u001b[38;5;34m0\u001b[0m][\u001b[38;5;34m0\u001b[0m]                │\n",
       "├───────────────────────────────┼───────────────────────────┼─────────────────┼────────────────────────────┤\n",
       "│ dense_1 (\u001b[38;5;33mDense\u001b[0m)               │ (\u001b[38;5;45mNone\u001b[0m, \u001b[38;5;34m8\u001b[0m)                 │              \u001b[38;5;34m24\u001b[0m │ input_layer_1[\u001b[38;5;34m0\u001b[0m][\u001b[38;5;34m0\u001b[0m]        │\n",
       "├───────────────────────────────┼───────────────────────────┼─────────────────┼────────────────────────────┤\n",
       "│ concatenate (\u001b[38;5;33mConcatenate\u001b[0m)     │ (\u001b[38;5;45mNone\u001b[0m, \u001b[38;5;34m72\u001b[0m)                │               \u001b[38;5;34m0\u001b[0m │ dropout[\u001b[38;5;34m0\u001b[0m][\u001b[38;5;34m0\u001b[0m],             │\n",
       "│                               │                           │                 │ dense_1[\u001b[38;5;34m0\u001b[0m][\u001b[38;5;34m0\u001b[0m]              │\n",
       "├───────────────────────────────┼───────────────────────────┼─────────────────┼────────────────────────────┤\n",
       "│ dense_2 (\u001b[38;5;33mDense\u001b[0m)               │ (\u001b[38;5;45mNone\u001b[0m, \u001b[38;5;34m43\u001b[0m)                │           \u001b[38;5;34m3,139\u001b[0m │ concatenate[\u001b[38;5;34m0\u001b[0m][\u001b[38;5;34m0\u001b[0m]          │\n",
       "└───────────────────────────────┴───────────────────────────┴─────────────────┴────────────────────────────┘\n"
      ]
     },
     "metadata": {},
     "output_type": "display_data"
    },
    {
     "data": {
      "text/html": [
       "<pre style=\"white-space:pre;overflow-x:auto;line-height:normal;font-family:Menlo,'DejaVu Sans Mono',consolas,'Courier New',monospace\"><span style=\"font-weight: bold\"> Total params: </span><span style=\"color: #00af00; text-decoration-color: #00af00\">82,043</span> (320.48 KB)\n",
       "</pre>\n"
      ],
      "text/plain": [
       "\u001b[1m Total params: \u001b[0m\u001b[38;5;34m82,043\u001b[0m (320.48 KB)\n"
      ]
     },
     "metadata": {},
     "output_type": "display_data"
    },
    {
     "data": {
      "text/html": [
       "<pre style=\"white-space:pre;overflow-x:auto;line-height:normal;font-family:Menlo,'DejaVu Sans Mono',consolas,'Courier New',monospace\"><span style=\"font-weight: bold\"> Trainable params: </span><span style=\"color: #00af00; text-decoration-color: #00af00\">82,043</span> (320.48 KB)\n",
       "</pre>\n"
      ],
      "text/plain": [
       "\u001b[1m Trainable params: \u001b[0m\u001b[38;5;34m82,043\u001b[0m (320.48 KB)\n"
      ]
     },
     "metadata": {},
     "output_type": "display_data"
    },
    {
     "data": {
      "text/html": [
       "<pre style=\"white-space:pre;overflow-x:auto;line-height:normal;font-family:Menlo,'DejaVu Sans Mono',consolas,'Courier New',monospace\"><span style=\"font-weight: bold\"> Non-trainable params: </span><span style=\"color: #00af00; text-decoration-color: #00af00\">0</span> (0.00 B)\n",
       "</pre>\n"
      ],
      "text/plain": [
       "\u001b[1m Non-trainable params: \u001b[0m\u001b[38;5;34m0\u001b[0m (0.00 B)\n"
      ]
     },
     "metadata": {},
     "output_type": "display_data"
    }
   ],
   "source": [
    "from tensorflow.keras.models import Model\n",
    "from tensorflow.keras.layers import Input, Conv2D, MaxPooling2D, Flatten, Dense, Dropout, Concatenate\n",
    "\n",
    "def build_weather_aware_model(img_shape=(32, 32, 3), weather_shape=(2,), num_classes=43):\n",
    "    # 📸 CNN Branch for images\n",
    "    cnn_input = Input(shape=img_shape)\n",
    "    x = Conv2D(32, (3, 3), activation='relu')(cnn_input)\n",
    "    x = MaxPooling2D((2, 2))(x)\n",
    "    x = Conv2D(64, (3, 3), activation='relu')(x)\n",
    "    x = MaxPooling2D((2, 2))(x)\n",
    "    x = Flatten()(x)\n",
    "    cnn_output = Dense(128, activation='relu')(x)\n",
    "    cnn_output = Dropout(0.5)(cnn_output)\n",
    "\n",
    "    # 🌦️ DNN Branch for weather metadata\n",
    "    weather_input = Input(shape=weather_shape)\n",
    "    weather_dense = Dense(8, activation='relu')(weather_input)\n",
    "\n",
    "    # 🔗 Fusion\n",
    "    merged = Concatenate()([cnn_output, weather_dense])\n",
    "    final_output = Dense(num_classes, activation='softmax')(merged)\n",
    "\n",
    "    model = Model(inputs=[cnn_input, weather_input], outputs=final_output)\n",
    "    model.compile(optimizer='adam', loss='categorical_crossentropy', metrics=['accuracy'])\n",
    "    return model\n",
    "\n",
    "# 🛠️ Build the model\n",
    "model = build_weather_aware_model()\n",
    "model.summary()\n"
   ]
  },
  {
   "cell_type": "markdown",
   "id": "559809ad-6fe9-4aca-b6e2-662f89de0f84",
   "metadata": {},
   "source": [
    "# Training the Model"
   ]
  },
  {
   "cell_type": "code",
   "execution_count": 12,
   "id": "b409f90d-0480-44bc-8e48-fee234c7402a",
   "metadata": {},
   "outputs": [
    {
     "name": "stdout",
     "output_type": "stream",
     "text": [
      "Epoch 1/10\n",
      "\u001b[1m613/613\u001b[0m \u001b[32m━━━━━━━━━━━━━━━━━━━━\u001b[0m\u001b[37m\u001b[0m \u001b[1m8s\u001b[0m 10ms/step - accuracy: 0.1889 - loss: 3.8487 - val_accuracy: 0.8199 - val_loss: 0.7726\n",
      "Epoch 2/10\n",
      "\u001b[1m613/613\u001b[0m \u001b[32m━━━━━━━━━━━━━━━━━━━━\u001b[0m\u001b[37m\u001b[0m \u001b[1m5s\u001b[0m 7ms/step - accuracy: 0.6902 - loss: 1.0512 - val_accuracy: 0.9341 - val_loss: 0.3153\n",
      "Epoch 3/10\n",
      "\u001b[1m613/613\u001b[0m \u001b[32m━━━━━━━━━━━━━━━━━━━━\u001b[0m\u001b[37m\u001b[0m \u001b[1m5s\u001b[0m 8ms/step - accuracy: 0.7964 - loss: 0.6742 - val_accuracy: 0.9561 - val_loss: 0.2157\n",
      "Epoch 4/10\n",
      "\u001b[1m613/613\u001b[0m \u001b[32m━━━━━━━━━━━━━━━━━━━━\u001b[0m\u001b[37m\u001b[0m \u001b[1m5s\u001b[0m 8ms/step - accuracy: 0.8329 - loss: 0.5485 - val_accuracy: 0.9654 - val_loss: 0.1582\n",
      "Epoch 5/10\n",
      "\u001b[1m613/613\u001b[0m \u001b[32m━━━━━━━━━━━━━━━━━━━━\u001b[0m\u001b[37m\u001b[0m \u001b[1m5s\u001b[0m 8ms/step - accuracy: 0.8554 - loss: 0.4756 - val_accuracy: 0.9704 - val_loss: 0.1384\n",
      "Epoch 6/10\n",
      "\u001b[1m613/613\u001b[0m \u001b[32m━━━━━━━━━━━━━━━━━━━━\u001b[0m\u001b[37m\u001b[0m \u001b[1m5s\u001b[0m 8ms/step - accuracy: 0.8658 - loss: 0.4299 - val_accuracy: 0.9735 - val_loss: 0.1160\n",
      "Epoch 7/10\n",
      "\u001b[1m613/613\u001b[0m \u001b[32m━━━━━━━━━━━━━━━━━━━━\u001b[0m\u001b[37m\u001b[0m \u001b[1m5s\u001b[0m 8ms/step - accuracy: 0.8805 - loss: 0.3970 - val_accuracy: 0.9783 - val_loss: 0.1013\n",
      "Epoch 8/10\n",
      "\u001b[1m613/613\u001b[0m \u001b[32m━━━━━━━━━━━━━━━━━━━━\u001b[0m\u001b[37m\u001b[0m \u001b[1m5s\u001b[0m 8ms/step - accuracy: 0.8933 - loss: 0.3459 - val_accuracy: 0.9793 - val_loss: 0.0899\n",
      "Epoch 9/10\n",
      "\u001b[1m613/613\u001b[0m \u001b[32m━━━━━━━━━━━━━━━━━━━━\u001b[0m\u001b[37m\u001b[0m \u001b[1m5s\u001b[0m 8ms/step - accuracy: 0.8970 - loss: 0.3322 - val_accuracy: 0.9825 - val_loss: 0.0835\n",
      "Epoch 10/10\n",
      "\u001b[1m613/613\u001b[0m \u001b[32m━━━━━━━━━━━━━━━━━━━━\u001b[0m\u001b[37m\u001b[0m \u001b[1m5s\u001b[0m 8ms/step - accuracy: 0.9051 - loss: 0.3088 - val_accuracy: 0.9819 - val_loss: 0.0795\n"
     ]
    }
   ],
   "source": [
    "history = model.fit(\n",
    "    [X_train_aug, weather_train_aug], y_train_aug,\n",
    "    epochs=10,\n",
    "    batch_size=64,\n",
    "    validation_data=([X_test, weather_test], y_test)\n",
    ")"
   ]
  },
  {
   "cell_type": "markdown",
   "id": "8cc4c591-61ba-4a12-a90b-3912296521dd",
   "metadata": {},
   "source": [
    "# 📊 Plot Accuracy and Loss"
   ]
  },
  {
   "cell_type": "code",
   "execution_count": 13,
   "id": "e9309987-f971-4124-9e8d-d09c0afe1755",
   "metadata": {},
   "outputs": [
    {
     "data": {
      "image/png": "[encoded data removed]",
      "text/plain": [
       "<Figure size 432x288 with 1 Axes>"
      ]
     },
     "metadata": {
      "needs_background": "light"
     },
     "output_type": "display_data"
    },
    {
     "data": {
      "image/png": "[encoded data removed]",
      "text/plain": [
       "<Figure size 432x288 with 1 Axes>"
      ]
     },
     "metadata": {
      "needs_background": "light"
     },
     "output_type": "display_data"
    }
   ],
   "source": [
    "import matplotlib.pyplot as plt\n",
    "\n",
    "# 📈 Accuracy\n",
    "plt.plot(history.history['accuracy'], label='Train Accuracy')\n",
    "plt.plot(history.history['val_accuracy'], label='Val Accuracy')\n",
    "plt.title('Model Accuracy')\n",
    "plt.xlabel('Epoch')\n",
    "plt.ylabel('Accuracy')\n",
    "plt.legend()\n",
    "plt.grid(True)\n",
    "plt.show()\n",
    "\n",
    "# 📉 Loss\n",
    "plt.plot(history.history['loss'], label='Train Loss')\n",
    "plt.plot(history.history['val_loss'], label='Val Loss')\n",
    "plt.title('Model Loss')\n",
    "plt.xlabel('Epoch')\n",
    "plt.ylabel('Loss')\n",
    "plt.legend()\n",
    "plt.grid(True)\n",
    "plt.show()\n"
   ]
  },
  {
   "cell_type": "markdown",
   "id": "5fa6d890-dc79-4855-bd52-c445c6e2fb18",
   "metadata": {},
   "source": [
    "#"
   ]
  },
  {
   "cell_type": "code",
   "execution_count": 14,
   "id": "2c89ead2-9da2-4f43-9347-6a1b33f76c13",
   "metadata": {},
   "outputs": [],
   "source": [
    "# 6.1. ✅ Evaluate on Test Set"
   ]
  },
  {
   "cell_type": "code",
   "execution_count": 15,
   "id": "f1268bd8-25fa-46af-93b9-a1ed0883514b",
   "metadata": {},
   "outputs": [
    {
     "name": "stdout",
     "output_type": "stream",
     "text": [
      "\u001b[1m246/246\u001b[0m \u001b[32m━━━━━━━━━━━━━━━━━━━━\u001b[0m\u001b[37m\u001b[0m \u001b[1m1s\u001b[0m 3ms/step\n",
      "\n",
      "🎯 Final Test Accuracy: 98.19%\n",
      "\n",
      "📊 Classification Report:\n",
      "              precision    recall  f1-score   support\n",
      "\n",
      "           0       1.00      0.98      0.99        42\n",
      "           1       0.97      0.98      0.98       444\n",
      "           2       0.98      0.96      0.97       450\n",
      "           3       0.99      0.94      0.97       282\n",
      "           4       1.00      0.98      0.99       396\n",
      "           5       0.94      0.98      0.96       372\n",
      "           6       1.00      1.00      1.00        84\n",
      "           7       0.99      0.97      0.98       288\n",
      "           8       0.97      0.98      0.97       282\n",
      "           9       1.00      0.99      0.99       294\n",
      "          10       0.98      0.99      0.99       402\n",
      "          11       0.99      0.96      0.97       264\n",
      "          12       1.00      1.00      1.00       420\n",
      "          13       1.00      1.00      1.00       432\n",
      "          14       0.99      0.99      0.99       156\n",
      "          15       0.98      1.00      0.99       126\n",
      "          16       1.00      1.00      1.00        84\n",
      "          17       0.99      1.00      0.99       222\n",
      "          18       1.00      0.97      0.99       240\n",
      "          19       0.97      0.93      0.95        42\n",
      "          20       0.96      0.94      0.95        72\n",
      "          21       1.00      0.95      0.98        66\n",
      "          22       0.96      0.97      0.97        78\n",
      "          23       0.97      0.97      0.97       102\n",
      "          24       0.98      1.00      0.99        54\n",
      "          25       0.96      0.99      0.98       300\n",
      "          26       0.94      0.98      0.96       120\n",
      "          27       0.90      0.98      0.94        48\n",
      "          28       0.98      0.98      0.98       108\n",
      "          29       0.95      0.96      0.95        54\n",
      "          30       0.93      0.96      0.95        90\n",
      "          31       0.99      0.97      0.98       156\n",
      "          32       1.00      0.98      0.99        48\n",
      "          33       0.97      1.00      0.99       138\n",
      "          34       0.95      0.98      0.96        84\n",
      "          35       1.00      0.99      0.99       240\n",
      "          36       1.00      0.99      0.99        78\n",
      "          37       1.00      0.93      0.96        42\n",
      "          38       1.00      0.99      0.99       414\n",
      "          39       0.97      0.97      0.97        60\n",
      "          40       1.00      1.00      1.00        72\n",
      "          41       0.98      1.00      0.99        48\n",
      "          42       0.98      1.00      0.99        48\n",
      "\n",
      "    accuracy                           0.98      7842\n",
      "   macro avg       0.98      0.98      0.98      7842\n",
      "weighted avg       0.98      0.98      0.98      7842\n",
      "\n"
     ]
    },
    {
     "data": {
      "image/png": "[encoded data removed]",
      "text/plain": [
       "<Figure size 864x720 with 2 Axes>"
      ]
     },
     "metadata": {
      "needs_background": "light"
     },
     "output_type": "display_data"
    }
   ],
   "source": [
    "# Final evaluation\n",
    "from sklearn.metrics import accuracy_score, classification_report, confusion_matrix\n",
    "import seaborn as sns\n",
    "import matplotlib.pyplot as plt\n",
    "import numpy as np\n",
    "\n",
    "# 🎯 Predict on entire test set\n",
    "y_pred_probs = model.predict([X_test, weather_test])\n",
    "y_pred = np.argmax(y_pred_probs, axis=1)\n",
    "y_true = np.argmax(y_test, axis=1)\n",
    "\n",
    "# ✅ Accuracy\n",
    "acc = accuracy_score(y_true, y_pred)\n",
    "print(f\"\\n🎯 Final Test Accuracy: {acc * 100:.2f}%\")\n",
    "\n",
    "# 📄 Classification Report\n",
    "print(\"\\n📊 Classification Report:\")\n",
    "print(classification_report(y_true, y_pred))\n",
    "\n",
    "# 🔍 Confusion Matrix\n",
    "cm = confusion_matrix(y_true, y_pred)\n",
    "\n",
    "plt.figure(figsize=(12, 10))\n",
    "sns.heatmap(cm, annot=False, fmt='d', cmap='Blues')\n",
    "plt.title(\"Confusion Matrix\")\n",
    "plt.xlabel(\"Predicted Label\")\n",
    "plt.ylabel(\"True Label\")\n",
    "plt.tight_layout()\n",
    "plt.show()"
   ]
  },
  {
   "cell_type": "code",
   "execution_count": 16,
   "id": "dca8aaea-54d7-48bf-a5cc-e44399078ae6",
   "metadata": {},
   "outputs": [],
   "source": [
    "# 6.2. 💾 Save Model"
   ]
  },
  {
   "cell_type": "code",
   "execution_count": 17,
   "id": "123f3cb3-5a06-4267-b9a3-ec27d206d81c",
   "metadata": {},
   "outputs": [
    {
     "name": "stdout",
     "output_type": "stream",
     "text": [
      "✅ Final model saved as weather_augmented_traffic_sign_model.keras\n"
     ]
    }
   ],
   "source": [
    "model.save(\"weather_augmented_traffic_sign_model.keras\")\n",
    "print(\"✅ Final model saved as weather_augmented_traffic_sign_model.keras\")"
   ]
  },
  {
   "cell_type": "code",
   "execution_count": 18,
   "id": "ba5b3adc-5627-487f-b303-33ef9e7eed19",
   "metadata": {},
   "outputs": [],
   "source": [
    "# 6.3. 🔮 Make a Few Predictions"
   ]
  },
  {
   "cell_type": "code",
   "execution_count": 19,
   "id": "0121ba41-6749-417d-a504-0f0b1ebeb131",
   "metadata": {},
   "outputs": [
    {
     "name": "stdout",
     "output_type": "stream",
     "text": [
      "\u001b[1m1/1\u001b[0m \u001b[32m━━━━━━━━━━━━━━━━━━━━\u001b[0m\u001b[37m\u001b[0m \u001b[1m0s\u001b[0m 54ms/step\n",
      "Image 1: Predicted = 28, Actual = 28\n",
      "Image 2: Predicted = 2, Actual = 2\n",
      "Image 3: Predicted = 1, Actual = 1\n",
      "Image 4: Predicted = 25, Actual = 25\n",
      "Image 5: Predicted = 38, Actual = 38\n",
      "Image 6: Predicted = 9, Actual = 9\n",
      "Image 7: Predicted = 31, Actual = 31\n",
      "Image 8: Predicted = 12, Actual = 12\n",
      "Image 9: Predicted = 1, Actual = 1\n",
      "Image 10: Predicted = 4, Actual = 4\n"
     ]
    }
   ],
   "source": [
    "# Predict on first 10 test samples\n",
    "y_pred_probs = model.predict([X_test[:10], weather_test[:10]])\n",
    "y_pred = np.argmax(y_pred_probs, axis=1)\n",
    "y_true = np.argmax(y_test[:10], axis=1)\n",
    "\n",
    "# Compare predictions vs true\n",
    "for i in range(10):\n",
    "    print(f\"Image {i+1}: Predicted = {y_pred[i]}, Actual = {y_true[i]}\")\n"
   ]
  },
  {
   "cell_type": "code",
   "execution_count": 20,
   "id": "5b48a37a-7900-4af8-9521-bbf02d01bdfc",
   "metadata": {},
   "outputs": [],
   "source": [
    "# 6.4. 🖼️ Visual Display"
   ]
  },
  {
   "cell_type": "code",
   "execution_count": 21,
   "id": "a548127f-82ee-46dd-b650-afc722a31f40",
   "metadata": {},
   "outputs": [
    {
     "data": {
      "image/png": "[encoded data removed]",
      "text/plain": [
       "<Figure size 864x288 with 10 Axes>"
      ]
     },
     "metadata": {
      "needs_background": "light"
     },
     "output_type": "display_data"
    }
   ],
   "source": [
    "import matplotlib.pyplot as plt\n",
    "\n",
    "plt.figure(figsize=(12, 4))\n",
    "for i in range(10):\n",
    "    plt.subplot(2, 5, i + 1)\n",
    "    plt.imshow(X_test[i])\n",
    "    plt.title(f\"Pred: {y_pred[i]}, True: {y_true[i]}\")\n",
    "    plt.axis(\"off\")\n",
    "plt.tight_layout()\n",
    "plt.show()\n"
   ]
  },
  {
   "cell_type": "code",
   "execution_count": 24,
   "id": "c1a5135d-2a94-40f7-a4a2-c6385b2f12b2",
   "metadata": {},
   "outputs": [
    {
     "name": "stdout",
     "output_type": "stream",
     "text": [
      "FPS for 4 frames: 49.22\n"
     ]
    }
   ],
   "source": [
    "batch_size = 4\n",
    "X_batch = X_test[:batch_size]\n",
    "weather_batch = weather_test[:batch_size]\n",
    "start_time = time.time()\n",
    "_ = model.predict([X_batch, weather_batch], verbose=0)\n",
    "total_time = time.time() - start_time\n",
    "fps = batch_size / total_time\n",
    "print(f\"FPS for {batch_size} frames: {fps:.2f}\")"
   ]
  },
  {
   "cell_type": "code",
   "execution_count": 26,
   "id": "83517af3",
   "metadata": {},
   "outputs": [
    {
     "name": "stdout",
     "output_type": "stream",
     "text": [
      "Optimized FPS for 4 frames (over 100 iterations): 3586.76\n"
     ]
    }
   ],
   "source": [
    "import tensorflow as tf\n",
    "import time\n",
    "import numpy as np\n",
    "\n",
    "batch_size = 4\n",
    "X_batch = X_test[:batch_size]\n",
    "weather_batch = weather_test[:batch_size]\n",
    "\n",
    "# Define the prediction function with tf.function\n",
    "@tf.function\n",
    "def predict_fn(inputs):\n",
    "    return model(inputs, training=False)\n",
    "\n",
    "# Warm-up to avoid initialization overhead\n",
    "for _ in range(5):\n",
    "    _ = predict_fn([X_batch, weather_batch])\n",
    "\n",
    "# Measure over multiple iterations for accuracy\n",
    "iterations = 100\n",
    "start_time = time.perf_counter()  # Higher precision timing\n",
    "for _ in range(iterations):\n",
    "    _ = predict_fn([X_batch, weather_batch])\n",
    "total_time = time.perf_counter() - start_time\n",
    "\n",
    "# Calculate FPS\n",
    "if total_time > 0:  # Avoid division by zero\n",
    "    fps = (batch_size * iterations) / total_time\n",
    "    print(f\"Optimized FPS for {batch_size} frames (over {iterations} iterations): {fps:.2f}\")\n",
    "else:\n",
    "    print(\"Execution too fast to measure accurately with current setup.\")\n",
    "    fps_per_run = float('inf')  # Indicates extremely high FPS"
   ]
  },
  {
   "cell_type": "code",
   "execution_count": 27,
   "id": "1f231983",
   "metadata": {},
   "outputs": [
    {
     "name": "stdout",
     "output_type": "stream",
     "text": [
      "Single-frame FPS (over 100 iterations): 631.33\n"
     ]
    }
   ],
   "source": [
    "import tensorflow as tf\n",
    "import time\n",
    "import numpy as np\n",
    "\n",
    "X_single = np.expand_dims(X_test[0], axis=0)\n",
    "weather_single = np.expand_dims(weather_test[0], axis=0)\n",
    "\n",
    "@tf.function\n",
    "def predict_fn(inputs):\n",
    "    return model(inputs, training=False)\n",
    "\n",
    "for _ in range(5):\n",
    "    _ = predict_fn([X_single, weather_single])\n",
    "\n",
    "iterations = 100\n",
    "start_time = time.perf_counter()\n",
    "for _ in range(iterations):\n",
    "    _ = predict_fn([X_single, weather_single])\n",
    "total_time = time.perf_counter() - start_time\n",
    "\n",
    "fps = iterations / total_time\n",
    "print(f\"Single-frame FPS (over {iterations} iterations): {fps:.2f}\")"
   ]
  },
  {
   "cell_type": "code",
   "execution_count": 28,
   "id": "49d340c2",
   "metadata": {
    "scrolled": true
   },
   "outputs": [
    {
     "name": "stdout",
     "output_type": "stream",
     "text": [
      "Total latency (30 FPS): 35.69 ms\n"
     ]
    }
   ],
   "source": [
    "start_time = time.perf_counter()\n",
    "# Simulate frame capture + processing\n",
    "_ = predict_fn([X_single, weather_single])\n",
    "total_time = time.perf_counter() - start_time + 0.0333  # Add 33.3 ms for 30 FPS\n",
    "print(f\"Total latency (30 FPS): {total_time*1000:.2f} ms\")"
   ]
  },
  {
   "cell_type": "code",
   "execution_count": 29,
   "id": "f47c39b4",
   "metadata": {},
   "outputs": [
    {
     "name": "stdout",
     "output_type": "stream",
     "text": [
      "Frame 1 processing: 2.06 ms\n",
      "Frame 2 processing: 2.33 ms\n",
      "Frame 3 processing: 2.74 ms\n",
      "Frame 4 processing: 2.08 ms\n",
      "Frame 5 processing: 4.09 ms\n",
      "Frame 6 processing: 2.96 ms\n",
      "Frame 7 processing: 3.76 ms\n",
      "Frame 8 processing: 3.04 ms\n",
      "Frame 9 processing: 3.17 ms\n",
      "Frame 10 processing: 3.11 ms\n"
     ]
    }
   ],
   "source": [
    "import time\n",
    "for i in range(10):  # 10 frames at 30 FPS\n",
    "    start_time = time.perf_counter()\n",
    "    _ = predict_fn([np.expand_dims(X_test[i], 0), np.expand_dims(weather_test[i], 0)])\n",
    "    elapsed = (time.perf_counter() - start_time) * 1000\n",
    "    print(f\"Frame {i+1} processing: {elapsed:.2f} ms\")\n",
    "    time.sleep(0.0333 - elapsed/1000 if elapsed < 33.3 else 0)  # Simulate 30 FPS"
   ]
  },
  {
   "cell_type": "code",
   "execution_count": null,
   "id": "f444c021",
   "metadata": {},
   "outputs": [],
   "source": []
  }
 ],
 "metadata": {
  "kernelspec": {
   "display_name": "Python 3 (ipykernel)",
   "language": "python",
   "name": "python3"
  },
  "language_info": {
   "codemirror_mode": {
    "name": "ipython",
    "version": 3
   },
   "file_extension": ".py",
   "mimetype": "text/x-python",
   "name": "python",
   "nbconvert_exporter": "python",
   "pygments_lexer": "ipython3",
   "version": "3.9.12"
  }
 },
 "nbformat": 4,
 "nbformat_minor": 5
}
